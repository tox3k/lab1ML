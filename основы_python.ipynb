{
  "cells": [
    {
      "cell_type": "markdown",
      "metadata": {
        "id": "M-DGa20PaHnu"
      },
      "source": [
        "#Задача 1\n",
        "Написать функцию на вход которой подается строка, состоящая из латинских букв.\n",
        "Функция должна вернуть количество гласных букв (a, e, i, o, u) в этой строке. Написать тесты для кода"
      ]
    },
    {
      "cell_type": "code",
      "execution_count": 8,
      "metadata": {
        "id": "XvX8X_JJ6PCb"
      },
      "outputs": [],
      "source": [
        "# Your code goes here\n",
        "\n",
        "def is_vowel(n):\n",
        "    if n in ['a', 'e', 'i', 'o', 'u']:\n",
        "        return True\n",
        "    \n",
        "def vowel_count(input_str):\n",
        "    if not isinstance(input_str, str):\n",
        "        return TypeError()\n",
        "    cnt = 0\n",
        "    for i in input_str:\n",
        "        if is_vowel(i):\n",
        "            cnt+=1\n",
        "    return cnt\n",
        "\n",
        "def tests():\n",
        "    assert vowel_count('aaawwiwo') == 5\n",
        "    assert vowel_count('aoiuoeirt') == 7\n",
        "    assert vowel_count('rtp') == 0\n",
        "    assert isinstance(vowel_count(123), TypeError)\n",
        "    \n",
        "tests()"
      ]
    },
    {
      "cell_type": "markdown",
      "metadata": {
        "id": "t2ClV_Y0bbr6"
      },
      "source": [
        "# Задача 2\n",
        "Написать функцию на вход, которой подается строка. Функция должна вернуть true, если\n",
        "каждый символ в строке встречается только 1 раз, иначе должна вернуть false. Написать тесты для кода"
      ]
    },
    {
      "cell_type": "code",
      "execution_count": 17,
      "metadata": {
        "id": "FppbECao6VIz"
      },
      "outputs": [],
      "source": [
        "# Your code goes here\n",
        "\n",
        "def consists_of_unique_chars(input_str):\n",
        "    if not isinstance(input_str, str):\n",
        "        return TypeError()\n",
        "    \n",
        "    dict = {}\n",
        "    \n",
        "    for ch in input_str:\n",
        "        if ch in dict:\n",
        "            return False\n",
        "        else:\n",
        "            dict[ch] = 1\n",
        "    \n",
        "    return True\n",
        "\n",
        "def tests():\n",
        "    assert isinstance(consists_of_unique_chars(12), TypeError)\n",
        "    assert consists_of_unique_chars('asdfghjklqwertyuiop123') == True\n",
        "    assert consists_of_unique_chars('asdfghjkla') == False\n",
        "    \n",
        "tests()"
      ]
    },
    {
      "cell_type": "markdown",
      "metadata": {
        "id": "udRiIK1cdt6E"
      },
      "source": [
        "# Задача 3\n",
        "Написать функцию, которая принимает положительное число и возвращает количество\n",
        "бит равных 1 в этом числе. Написать тесты для кода"
      ]
    },
    {
      "cell_type": "code",
      "execution_count": 18,
      "metadata": {
        "id": "6tkfDJRz6dp_"
      },
      "outputs": [],
      "source": [
        "# Your code goes here"
      ]
    },
    {
      "cell_type": "markdown",
      "metadata": {
        "id": "26dDUz-Ae17N"
      },
      "source": [
        "# Задача 4\n",
        "Написать функцию, которая принимает положительное число. Функция должна вернуть то,\n",
        "сколько раз необходимо перемножать цифры числа или результат перемножения, чтобы\n",
        "получилось число состоящее из одной цифры.\n",
        "Например, для входного числа:\n",
        "· 39 функция должна вернуть 3, так как 3*9=27 => 2*7=14 => 1*4=4\n",
        "· 4 функция должна вернуть 0, так как число уже состоит из одной цифры\n",
        "· 999 функция должна вернуть 4, так как 9*9*9=729 => 7*2*9=126 => 1*2*6=12 =>\n",
        "1*2=2. Написать тесты для кода"
      ]
    },
    {
      "cell_type": "code",
      "execution_count": 93,
      "metadata": {
        "id": "BH1A_Mgi6i4G"
      },
      "outputs": [],
      "source": [
        "def magic(n):\n",
        "    if not isinstance(n, int):\n",
        "        return TypeError()\n",
        "    \n",
        "    s = str(n)\n",
        "    cnt = 0\n",
        "    while n > 9:\n",
        "        temp = 1\n",
        "        for i in s:\n",
        "            temp *= int(i)\n",
        "        cnt += 1\n",
        "        n = temp\n",
        "        s = str(n)\n",
        "    \n",
        "    return cnt\n",
        "\n",
        "def tests():\n",
        "    assert isinstance(magic('asd'), TypeError)\n",
        "    assert magic(39) == 3\n",
        "    assert magic(999) == 4\n",
        "    assert magic(9) == 0\n",
        "    \n",
        "tests()"
      ]
    },
    {
      "cell_type": "markdown",
      "metadata": {
        "id": "0nS-kIa8g8vd"
      },
      "source": [
        "# Задача 5\n",
        "Написать функцию, которая принимает два целочисленных вектора одинаковой длины и\n",
        "возвращает среднеквадратическое отклонение двух векторов. Написать тесты для кода"
      ]
    },
    {
      "cell_type": "code",
      "execution_count": 92,
      "metadata": {
        "id": "8iphx4LM6xbx"
      },
      "outputs": [],
      "source": [
        "import numpy as np\n",
        "\n",
        "def mse(pred, true):\n",
        "    if pred.size != true.size:\n",
        "        return ValueError('Wrong axis size!')\n",
        "    \n",
        "    return np.sqrt(np.mean((true - pred)**2))\n",
        "\n",
        "def tests():\n",
        "    assert isinstance(mse(np.array([1,2,3]), np.array([1, 2])), ValueError)\n",
        "    assert mse(np.array([1, 2]), np.array([3, 4])) == 2.0\n",
        "    assert mse(np.array([1, 2]), np.array([2, 1])) == 1.0\n",
        "\n",
        "tests()"
      ]
    },
    {
      "cell_type": "markdown",
      "metadata": {
        "id": "vpIPKL439zkw"
      },
      "source": [
        "# Задача 6\n",
        "Написать функцию, принимающая целое положительное число. Функция должна вернуть\n",
        "строку вида “(n1**p1)(n2**p2)…(nk**pk)” представляющая разложение числа на простые\n",
        "множители (если pi == 1, то выводить только ni).\n",
        "Например, для числа 86240 функция должна вернуть “(2**5)(5)(7**2)(11)”. Написать тесты для кода"
      ]
    },
    {
      "cell_type": "code",
      "execution_count": 99,
      "metadata": {
        "id": "pFebmcZk94Jw"
      },
      "outputs": [],
      "source": [
        "#Простые через решето Эратосфена\n",
        "def get_primes(n):\n",
        "    res = [i for i in range(n + 1)]\n",
        "    res[1] = 0\n",
        "    \n",
        "    i = 2\n",
        "    while i <= n:\n",
        "        if res[i] != 0: \n",
        "            j = 2 * i\n",
        "            while j < len(res):\n",
        "                res[j] = 0\n",
        "                j += i\n",
        "        i += 1\n",
        "\n",
        "    res = [i for i in res if i != 0]\n",
        "    return res\n",
        "\n",
        "def factorization(n):\n",
        "    if not isinstance(n, int):\n",
        "        return TypeError()\n",
        "    primes = get_primes(int(n*0.5) + 1) [::-1]\n",
        "    deviders = {}\n",
        "\n",
        "    for i in primes:\n",
        "        while n % i == 0 and n > 1:\n",
        "            if i not in deviders:\n",
        "                deviders[i] = 1\n",
        "            else:\n",
        "                deviders[i] += 1\n",
        "            n /= i\n",
        "    \n",
        "    res = ''\n",
        "    for k, v in deviders.items():\n",
        "        res += f'({k}**{v})'\n",
        "    return res\n",
        "    \n",
        "def tests():\n",
        "    assert isinstance(factorization('123'), TypeError)\n",
        "    assert factorization(86240) == '(11**1)(7**2)(5**1)(2**5)'\n",
        "    assert factorization(100) == ('(5**2)(2**2)')\n",
        "    \n",
        "tests()\n",
        "    "
      ]
    },
    {
      "cell_type": "markdown",
      "metadata": {
        "id": "ps2s0BudX7A2"
      },
      "source": [
        "# Задача 7\n",
        "Написать функцию, принимающая целое число n, задающее количество кубиков. Функция\n",
        "должна определить, можно ли из данного кол-ва кубиков построить пирамиду, то есть\n",
        "можно ли представить число n как 1^2+2^2+3^2+…+k^2. Если можно, то функция должна\n",
        "вернуть k, иначе строку “It is impossible”. Написать тесты для кода"
      ]
    },
    {
      "cell_type": "code",
      "execution_count": 100,
      "metadata": {
        "id": "3YPjEXxhX_YT"
      },
      "outputs": [],
      "source": [
        "def pyramid(number):\n",
        "    if not isinstance(number, int):\n",
        "        return TypeError()\n",
        "    \n",
        "    sum = 0\n",
        "    cnt = 0\n",
        "    for i in range(1, number):\n",
        "        if sum < number:\n",
        "            sum += i**2\n",
        "            cnt += 1\n",
        "        \n",
        "        elif sum == number:\n",
        "            return cnt\n",
        "        elif sum > number:\n",
        "            return 'It is impossible'\n",
        "\n",
        "def tests():\n",
        "    assert isinstance(pyramid('12'), TypeError)\n",
        "    assert pyramid(5) == 2\n",
        "    assert pyramid(14) == 3\n",
        "    \n",
        "tests()"
      ]
    },
    {
      "cell_type": "markdown",
      "metadata": {
        "id": "KeKgmIdAQMEJ"
      },
      "source": [
        "# Задача 8\n",
        "Функция принимает на вход положительное число и определяет является ли оно сбалансированным, т.е. сумма цифр до средних равна сумме цифр после. Средними в случае нечетного числа цифр считать одну цифру, в случае четного - две средних. Написать тесты для кода"
      ]
    },
    {
      "cell_type": "code",
      "execution_count": 116,
      "metadata": {
        "id": "gMAAqtqlQrZt"
      },
      "outputs": [],
      "source": [
        "def sum(arr):\n",
        "    sum = 0\n",
        "    for i in arr:\n",
        "        sum += int(i)\n",
        "    return sum\n",
        "\n",
        "def is_balanced(number):\n",
        "    if not isinstance(number, int):\n",
        "        return TypeError()\n",
        "    \n",
        "    if len(str(number)) % 2 == 1:\n",
        "        mid = len(str(number)) // 2\n",
        "        return sum(str(number)[:mid]) == sum(str(number)[mid+1:])\n",
        "    \n",
        "    else:\n",
        "        mid_s = len(str(number)) // 2 - 1\n",
        "        mid_e = len(str(number)) // 2\n",
        "        return sum(str(number)[:mid_s]) == sum(str(number)[mid_e + 1:])\n",
        "    \n",
        "def tests():\n",
        "    assert isinstance(is_balanced('123'), TypeError)\n",
        "    assert is_balanced(1114300) == True\n",
        "    assert is_balanced(345625) == True\n",
        "    assert is_balanced(123456) == False\n",
        "\n",
        "tests()"
      ]
    }
  ],
  "metadata": {
    "colab": {
      "provenance": []
    },
    "kernelspec": {
      "display_name": "Python 3",
      "name": "python3"
    },
    "language_info": {
      "codemirror_mode": {
        "name": "ipython",
        "version": 3
      },
      "file_extension": ".py",
      "mimetype": "text/x-python",
      "name": "python",
      "nbconvert_exporter": "python",
      "pygments_lexer": "ipython3",
      "version": "3.11.5"
    }
  },
  "nbformat": 4,
  "nbformat_minor": 0
}
